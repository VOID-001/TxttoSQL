{
  "nbformat": 4,
  "nbformat_minor": 0,
  "metadata": {
    "colab": {
      "provenance": []
    },
    "kernelspec": {
      "name": "python3",
      "display_name": "Python 3"
    },
    "language_info": {
      "name": "python"
    }
  },
  "cells": [
    {
      "cell_type": "markdown",
      "source": [
        "Dataset Source = https://huggingface.co/datasets/xlangai/spider"
      ],
      "metadata": {
        "id": "W-h-nwSM2tDm"
      }
    },
    {
      "cell_type": "markdown",
      "source": [
        "This Script is for **training** , It loads the dataset into inputs and uses Hardcoded schema , Model is thrained using above Datset"
      ],
      "metadata": {
        "id": "dx8BocWA20fQ"
      }
    },
    {
      "cell_type": "code",
      "execution_count": null,
      "metadata": {
        "id": "7OydXAwm2ewc"
      },
      "outputs": [],
      "source": [
        "#!pip install datasets\n",
        "\n",
        "from datasets import load_dataset\n",
        "from transformers import T5ForConditionalGeneration, T5Tokenizer, Trainer, TrainingArguments\n",
        "import torch\n",
        "\n",
        "# Load your dataset (using xlangai/spider dataset)\n",
        "dataset = load_dataset(\"xlangai/spider\")\n",
        "\n",
        "# Hardcode the schema you want the model to always use\n",
        "static_schema = \"employees(employee_id, name, department, position, salary, bike_owned)\"\n",
        "\n",
        "# Add the static schema to all questions in the dataset\n",
        "def preprocess_function(examples):\n",
        "    questions = examples['question']\n",
        "    sql_queries = examples['query']\n",
        "\n",
        "    # Prepend schema to every question\n",
        "    questions_with_schema = [f\"Schema: {static_schema}. Question: {question}\" for question in questions]\n",
        "\n",
        "    return {\n",
        "        'input_text': questions_with_schema,\n",
        "        'target_text': sql_queries\n",
        "    }\n",
        "\n",
        "# Apply the preprocessing function to the dataset\n",
        "tokenized_dataset = dataset.map(preprocess_function, batched=True)\n",
        "\n",
        "# Load the tokenizer and model\n",
        "model = T5ForConditionalGeneration.from_pretrained(\"t5-base\")\n",
        "tokenizer = T5Tokenizer.from_pretrained(\"t5-base\")\n",
        "\n",
        "# Tokenize the input and target text\n",
        "def tokenize_function(examples):\n",
        "    inputs = tokenizer(examples['input_text'], max_length=512, truncation=True, padding=\"max_length\")\n",
        "    targets = tokenizer(examples['target_text'], max_length=512, truncation=True, padding=\"max_length\")\n",
        "\n",
        "    # Create the labels key with the target tokenized data\n",
        "    inputs['labels'] = targets['input_ids']\n",
        "\n",
        "    # Return necessary tensor keys for training\n",
        "    return {\n",
        "        'input_ids': torch.tensor(inputs['input_ids'], dtype=torch.long),\n",
        "        'attention_mask': torch.tensor(inputs['attention_mask'], dtype=torch.long),\n",
        "        'labels': torch.tensor(inputs['labels'], dtype=torch.long)\n",
        "    }\n",
        "\n",
        "# Tokenize the entire dataset\n",
        "tokenized_dataset = tokenized_dataset.map(tokenize_function, batched=True, remove_columns=dataset['train'].column_names)\n",
        "\n",
        "# Split into training and validation sets if needed\n",
        "if 'validation' not in tokenized_dataset:\n",
        "    tokenized_dataset = tokenized_dataset.train_test_split(test_size=0.1)\n",
        "\n",
        "# Define training arguments\n",
        "training_args = TrainingArguments(\n",
        "    output_dir=\"./my_static_schema_t5_model\",\n",
        "    evaluation_strategy=\"epoch\",\n",
        "    learning_rate=2e-5,\n",
        "    per_device_train_batch_size=8,\n",
        "    per_device_eval_batch_size=8,\n",
        "    num_train_epochs=3,\n",
        "    save_strategy=\"epoch\",\n",
        "    logging_dir='./logs',\n",
        "    logging_steps=10,\n",
        ")\n",
        "\n",
        "# Create Trainer\n",
        "trainer = Trainer(\n",
        "    model=model,\n",
        "    args=training_args,\n",
        "    train_dataset=tokenized_dataset['train'],\n",
        "    eval_dataset=tokenized_dataset['validation'],\n",
        ")\n",
        "\n",
        "# Fine-tune the model\n",
        "trainer.train()\n",
        "\n",
        "# Save the fine-tuned model\n",
        "trainer.save_model(\"./MySQL_t5_model\")\n"
      ]
    },
    {
      "cell_type": "markdown",
      "source": [
        "Further it creates a New model named **MySQL_t5_model**"
      ],
      "metadata": {
        "id": "89J-Lg_t3wy3"
      }
    },
    {
      "cell_type": "markdown",
      "source": [
        "______________________________________________________________________________________"
      ],
      "metadata": {
        "id": "Oybl-htX4Fq4"
      }
    },
    {
      "cell_type": "markdown",
      "source": [
        "The following script is to test the model using user queries"
      ],
      "metadata": {
        "id": "sK3HX6VS4GTW"
      }
    },
    {
      "cell_type": "code",
      "source": [
        "from transformers import T5Tokenizer, T5ForConditionalGeneration\n",
        "\n",
        "# Load the custom fine-tuned model and tokenizer\n",
        "model_path = \"./MySQL_t5_model\"  # Path where your model is saved\n",
        "model = T5ForConditionalGeneration.from_pretrained(model_path)\n",
        "tokenizer = T5Tokenizer.from_pretrained(model_path)\n",
        "\n",
        "# Function to generate SQL query from a question, considering the schema\n",
        "def generate_sql_query(schema, question):\n",
        "    # Combine schema and question with a clearer prompt\n",
        "    input_text = f\"Translate English to SQL based on the provided schema:\\nSchema: {schema}\\nQuestion: {question}\"\n",
        "\n",
        "    # Preprocess the input question\n",
        "    inputs = tokenizer.encode(input_text, return_tensors=\"pt\", max_length=512, truncation=True)\n",
        "\n",
        "    # Generate the output (SQL query)\n",
        "    outputs = model.generate(inputs, max_length=150, num_beams=5, early_stopping=True)\n",
        "\n",
        "    # Decode the output and return the SQL query\n",
        "    sql_query = tokenizer.decode(outputs[0], skip_special_tokens=True)\n",
        "    return sql_query\n",
        "\n",
        "# Example interaction with schema and question input\n",
        "while True:\n",
        "    # Get the schema input from the user\n",
        "    schema = input(\"Enter the table schema (or type 'exit' to quit): \")\n",
        "    if schema.lower() == \"exit\":\n",
        "        break\n",
        "\n",
        "    # Get the natural language question\n",
        "    question = input(\"Enter a question in natural language (or type 'exit' to quit): \")\n",
        "    if question.lower() == \"exit\":\n",
        "        break\n",
        "\n",
        "    # Generate the SQL query based on the schema and question\n",
        "    sql_query = generate_sql_query(schema, question)\n",
        "    print(f\"Generated SQL Query: {sql_query}\")\n"
      ],
      "metadata": {
        "id": "fcNbt2834C7e"
      },
      "execution_count": null,
      "outputs": []
    },
    {
      "cell_type": "markdown",
      "source": [
        "Problems: Hardware Bottle neck\n",
        "\n",
        "\n",
        "\n",
        "\n",
        "**OutOfMemoryError:** CUDA out of memory. Tried to allocate 96.00 MiB. GPU 0 has a total capacity of 14.75 GiB of which 31.06 MiB is free. Process 3260 has 14.71 GiB memory in use. Of the allocated memory 14.49 GiB is allocated by PyTorch, and 99.53 MiB is reserved by PyTorch but unallocated. If reserved but unallocated memory is large try setting PYTORCH_CUDA_ALLOC_CONF=expandable_segments:True to avoid fragmentation.  See documentation for Memory Management  (https://pytorch.org/docs/stable/notes/cuda.html#environment-variables)\n",
        "\n",
        "![Screenshot 2024-10-04 195013.png](data:image/png;base64,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)"
      ],
      "metadata": {
        "id": "sWbOrLYj5Gtn"
      }
    },
    {
      "cell_type": "code",
      "source": [],
      "metadata": {
        "id": "GEvCgGdY5SJs"
      },
      "execution_count": null,
      "outputs": []
    }
  ]
}